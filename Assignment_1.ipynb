{
 "cells": [
  {
   "cell_type": "markdown",
   "source": [
    "# NNTI Assignment 1"
   ],
   "metadata": {
    "collapsed": false
   }
  },
  {
   "cell_type": "markdown",
   "source": [
    "@authors: Mhd Jawad Al Rahwanji, Christian Singer\n",
    "@ID: 7038980, 7039059\n",
    "@Email: mhal00002@stud.uni-saarland.de, chsi00002@stud.uni-saarland.de"
   ],
   "metadata": {
    "collapsed": false
   }
  },
  {
   "cell_type": "markdown",
   "source": [
    "## Exercise 1"
   ],
   "metadata": {
    "collapsed": false
   }
  },
  {
   "cell_type": "markdown",
   "source": [
    "## Exercise 2"
   ],
   "metadata": {
    "collapsed": false
   }
  },
  {
   "cell_type": "code",
   "execution_count": 8,
   "outputs": [],
   "source": [
    "# imports for exercise 2\n",
    "import numpy as np"
   ],
   "metadata": {
    "collapsed": false
   }
  },
  {
   "cell_type": "code",
   "execution_count": 9,
   "outputs": [],
   "source": [
    "# random seed\n",
    "seed = 123\n",
    "np.random.seed(seed)"
   ],
   "metadata": {
    "collapsed": false
   }
  },
  {
   "cell_type": "code",
   "execution_count": null,
   "outputs": [],
   "source": [
    "# function 1:\n",
    "# (1) Randomly generates a 4x4 matrix\n",
    "# (2) Transposes the matrix\n",
    "# (3) Finds the inverse of the matrix\n",
    "def function_1():\n",
    "  # (1)\n",
    "  mat = np.random.rand(4, 4)\n",
    "  # (2)\n",
    "  mat_T = mat.transpose()\n",
    "  # (3)\n",
    "  mat_inv = np.linalg.inv(mat)\n",
    "\n",
    "  return mat, mat_T, mat_inv"
   ],
   "metadata": {
    "collapsed": false
   }
  },
  {
   "cell_type": "code",
   "execution_count": null,
   "outputs": [],
   "source": [
    "# function 2:\n",
    "# (1) Randomly generates a 4x4 matrix\n",
    "# (2) Computes the eigenvalues of the matrix\n",
    "# (3) Computes the eigenvectors of the matrix\n",
    "def function_2():\n",
    "  # (1)\n",
    "  mat = np.random.rand(4, 4)\n",
    "  # (2), (3)\n",
    "  mat_evals, mat_evecs = np.linalg.eig(mat)\n",
    "\n",
    "  return mat, mat_evals, mat_evecs"
   ],
   "metadata": {
    "collapsed": false
   }
  },
  {
   "cell_type": "markdown",
   "source": [
    "## Exercise 3"
   ],
   "metadata": {
    "collapsed": false
   }
  },
  {
   "cell_type": "code",
   "execution_count": 37,
   "outputs": [],
   "source": [
    "# imports for exercise 3\n",
    "import os\n",
    "import cv2\n",
    "import torch\n",
    "from torch.utils.data import Dataset, DataLoader"
   ],
   "metadata": {
    "collapsed": false
   }
  },
  {
   "cell_type": "code",
   "execution_count": 38,
   "outputs": [],
   "source": [
    "class PistachioImageDataset(Dataset):\n",
    "    \"\"\"Pistachio Image dataset.\"\"\"\n",
    "\n",
    "    def __init__(self, dir):\n",
    "        \"\"\"\n",
    "        Args:\n",
    "            dir (string): The path to the image folder\n",
    "        \"\"\"\n",
    "        self.dir = dir\n",
    "        self.listdir = os.listdir(self.dir)\n",
    "\n",
    "    def __len__(self):\n",
    "        return len(self.listdir)\n",
    "\n",
    "    def __getitem__(self, idx):\n",
    "        img_name = os.path.join(self.dir, self.listdir[idx])\n",
    "        image = cv2.imread(img_name)\n",
    "        label = self.listdir[idx].split(\" \")[0]\n",
    "\n",
    "        return image, label"
   ],
   "metadata": {
    "collapsed": false
   }
  },
  {
   "cell_type": "code",
   "execution_count": 39,
   "outputs": [],
   "source": [
    "def collate_fn(batch):\n",
    "\n",
    "    images = [torch.from_numpy(cv2.resize(i[0], (int(0.8 * i[0].shape[0]), int(0.8 * i[0].shape[1])), interpolation = cv2.INTER_AREA)) for i in batch]\n",
    "    # Nice\n",
    "    images = torch.stack(images)\n",
    "    labels = [i[1] for i in batch]\n",
    "\n",
    "    return images, labels"
   ],
   "metadata": {
    "collapsed": false
   }
  },
  {
   "cell_type": "code",
   "execution_count": 42,
   "outputs": [
    {
     "name": "stdout",
     "output_type": "stream",
     "text": [
      "Length of dataset: 101\n",
      "Size of image 0: (600, 600, 3), label: kirmizi\n",
      "Size of image 1: (600, 600, 3), label: siirt\n",
      "Size of image 2: (600, 600, 3), label: siirt\n",
      "Size of image 3: (600, 600, 3), label: kirmizi\n",
      "Size of image 4: (600, 600, 3), label: kirmizi\n",
      "Size of image 5: (600, 600, 3), label: siirt\n",
      "Size of image 6: (600, 600, 3), label: kirmizi\n",
      "Size of image 7: (600, 600, 3), label: kirmizi\n",
      "Size of image 8: (600, 600, 3), label: siirt\n",
      "Size of image 9: (600, 600, 3), label: kirmizi\n",
      "Size of image 10: (600, 600, 3), label: siirt\n",
      "Size of image 11: (600, 600, 3), label: siirt\n",
      "Size of image 12: (600, 600, 3), label: kirmizi\n",
      "Size of image 13: (600, 600, 3), label: siirt\n",
      "Size of image 14: (600, 600, 3), label: kirmizi\n",
      "Size of image 15: (600, 600, 3), label: kirmizi\n",
      "Size of image 17: (600, 600, 3), label: siirt\n",
      "Size of image 18: (600, 600, 3), label: kirmizi\n",
      "Size of image 19: (600, 600, 3), label: siirt\n",
      "Size of image 20: (600, 600, 3), label: siirt\n",
      "Size of image 21: (600, 600, 3), label: kirmizi\n",
      "Size of image 22: (600, 600, 3), label: kirmizi\n",
      "Size of image 23: (600, 600, 3), label: siirt\n",
      "Size of image 24: (600, 600, 3), label: siirt\n",
      "Size of image 25: (600, 600, 3), label: kirmizi\n",
      "Size of image 26: (600, 600, 3), label: kirmizi\n",
      "Size of image 27: (600, 600, 3), label: siirt\n",
      "Size of image 28: (600, 600, 3), label: kirmizi\n",
      "Size of image 29: (600, 600, 3), label: siirt\n",
      "Size of image 30: (600, 600, 3), label: siirt\n",
      "Size of image 31: (600, 600, 3), label: siirt\n",
      "Size of image 32: (600, 600, 3), label: kirmizi\n",
      "Size of image 33: (600, 600, 3), label: kirmizi\n",
      "Size of image 34: (600, 600, 3), label: siirt\n",
      "Size of image 35: (600, 600, 3), label: kirmizi\n",
      "Size of image 36: (600, 600, 3), label: siirt\n",
      "Size of image 37: (600, 600, 3), label: kirmizi\n",
      "Size of image 38: (600, 600, 3), label: kirmizi\n",
      "Size of image 39: (600, 600, 3), label: siirt\n",
      "Size of image 40: (600, 600, 3), label: kirmizi\n",
      "Size of image 41: (600, 600, 3), label: siirt\n",
      "Size of image 42: (600, 600, 3), label: kirmizi\n",
      "Size of image 43: (600, 600, 3), label: kirmizi\n",
      "Size of image 44: (600, 600, 3), label: kirmizi\n",
      "Size of image 45: (600, 600, 3), label: siirt\n",
      "Size of image 46: (600, 600, 3), label: kirmizi\n",
      "Size of image 47: (600, 600, 3), label: siirt\n",
      "Size of image 48: (600, 600, 3), label: siirt\n",
      "Size of image 49: (600, 600, 3), label: kirmizi\n",
      "Size of image 50: (600, 600, 3), label: kirmizi\n",
      "Size of image 51: (600, 600, 3), label: kirmizi\n",
      "Size of image 52: (600, 600, 3), label: siirt\n",
      "Size of image 53: (600, 600, 3), label: siirt\n",
      "Size of image 54: (600, 600, 3), label: kirmizi\n",
      "Size of image 55: (600, 600, 3), label: siirt\n",
      "Size of image 56: (600, 600, 3), label: kirmizi\n",
      "Size of image 57: (600, 600, 3), label: siirt\n",
      "Size of image 58: (600, 600, 3), label: kirmizi\n",
      "Size of image 59: (600, 600, 3), label: siirt\n",
      "Size of image 60: (600, 600, 3), label: kirmizi\n",
      "Size of image 61: (600, 600, 3), label: siirt\n",
      "Size of image 62: (600, 600, 3), label: siirt\n",
      "Size of image 63: (600, 600, 3), label: kirmizi\n",
      "Size of image 64: (600, 600, 3), label: siirt\n",
      "Size of image 65: (600, 600, 3), label: kirmizi\n",
      "Size of image 66: (600, 600, 3), label: kirmizi\n",
      "Size of image 67: (600, 600, 3), label: siirt\n",
      "Size of image 68: (600, 600, 3), label: siirt\n",
      "Size of image 69: (600, 600, 3), label: siirt\n",
      "Size of image 70: (600, 600, 3), label: kirmizi\n",
      "Size of image 71: (600, 600, 3), label: siirt\n",
      "Size of image 72: (600, 600, 3), label: kirmizi\n",
      "Size of image 73: (600, 600, 3), label: siirt\n",
      "Size of image 74: (600, 600, 3), label: kirmizi\n",
      "Size of image 75: (600, 600, 3), label: siirt\n",
      "Size of image 76: (600, 600, 3), label: kirmizi\n",
      "Size of image 77: (600, 600, 3), label: siirt\n",
      "Size of image 78: (600, 600, 3), label: siirt\n",
      "Size of image 79: (600, 600, 3), label: kirmizi\n",
      "Size of image 80: (600, 600, 3), label: kirmizi\n",
      "Size of image 81: (600, 600, 3), label: siirt\n",
      "Size of image 82: (600, 600, 3), label: siirt\n",
      "Size of image 83: (600, 600, 3), label: kirmizi\n",
      "Size of image 84: (600, 600, 3), label: kirmizi\n",
      "Size of image 85: (600, 600, 3), label: siirt\n",
      "Size of image 86: (600, 600, 3), label: siirt\n",
      "Size of image 87: (600, 600, 3), label: kirmizi\n",
      "Size of image 88: (600, 600, 3), label: kirmizi\n",
      "Size of image 89: (600, 600, 3), label: siirt\n",
      "Size of image 90: (600, 600, 3), label: siirt\n",
      "Size of image 91: (600, 600, 3), label: siirt\n",
      "Size of image 92: (600, 600, 3), label: kirmizi\n",
      "Size of image 93: (600, 600, 3), label: siirt\n",
      "Size of image 94: (600, 600, 3), label: siirt\n",
      "Size of image 95: (600, 600, 3), label: kirmizi\n",
      "Size of image 96: (600, 600, 3), label: kirmizi\n",
      "Size of image 97: (600, 600, 3), label: siirt\n",
      "Size of image 98: (600, 600, 3), label: siirt\n",
      "Size of image 99: (600, 600, 3), label: kirmizi\n",
      "Size of image 100: (600, 600, 3), label: kirmizi\n",
      "Labels: ['siirt', 'siirt', 'kirmizi', 'siirt']\n",
      "Size of image batch: torch.Size([4, 480, 480, 3])\n"
     ]
    }
   ],
   "source": [
    "# The code in the cells below lets you verify that our implementations fulfill the criteria specified on the exercise sheet.\n",
    "dataset = PistachioImageDataset(dir = \"data/\")\n",
    "\n",
    "# Proof that dataset has a length.\n",
    "print(f\"Length of dataset: {len(dataset)}\")\n",
    "\n",
    "# Proof that dataset is iterable.\n",
    "for i, x in enumerate(dataset):\n",
    "    if x[0] is not None:\n",
    "        print(f\"Size of image {i}: {x[0].shape}, label: {x[1]}\")\n",
    "\n",
    "# Proof that dataset is a valid input to DataLoader.\n",
    "dataloader = DataLoader(dataset, batch_size=4, shuffle=True, collate_fn=collate_fn)\n",
    "image, label = next(iter(dataloader))\n",
    "print(f\"Labels: {label}\")\n",
    "# Proof that images have been resized to 80% of their original size.\n",
    "print(f\"Size of image batch: {image.shape}\")"
   ],
   "metadata": {
    "collapsed": false
   }
  },
  {
   "cell_type": "code",
   "execution_count": null,
   "outputs": [],
   "source": [],
   "metadata": {
    "collapsed": false
   }
  }
 ],
 "metadata": {
  "kernelspec": {
   "display_name": "Python 3",
   "language": "python",
   "name": "python3"
  },
  "language_info": {
   "codemirror_mode": {
    "name": "ipython",
    "version": 2
   },
   "file_extension": ".py",
   "mimetype": "text/x-python",
   "name": "python",
   "nbconvert_exporter": "python",
   "pygments_lexer": "ipython2",
   "version": "2.7.6"
  }
 },
 "nbformat": 4,
 "nbformat_minor": 0
}
